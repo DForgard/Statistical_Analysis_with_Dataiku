{
  "metadata": {
    "kernelspec": {
      "name": "python3",
      "display_name": "Python 3",
      "language": "python"
    },
    "language_info": {
      "name": "python",
      "version": "3.6.8",
      "mimetype": "text/x-python",
      "codemirror_mode": {
        "name": "ipython",
        "version": 3
      },
      "pygments_lexer": "ipython3",
      "nbconvert_exporter": "python",
      "file_extension": ".py"
    },
    "analyzedDataset": "customers_web_joined",
    "creator": "david.forgard@niji.fr",
    "createdOn": 1669807216804,
    "tags": [],
    "customFields": {},
    "hide_input": false,
    "modifiedBy": "david.forgard@niji.fr",
    "dkuGit": {
      "gitReference": {
        "remote": "git@github.com:DForgard/Statistical_Analysis_with_Dataiku.git",
        "checkout": "master",
        "remotePath": "statistical analysis of customers_web_joined.ipynb",
        "isDirty": false
      },
      "lastInteraction": 1669812644618
    }
  },
  "nbformat": 4,
  "nbformat_minor": 1,
  "cells": [
    {
      "cell_type": "markdown",
      "metadata": {},
      "source": [
        "# Statistical analysis (Single Population) on customers_web_joined"
      ]
    },
    {
      "cell_type": "markdown",
      "metadata": {},
      "source": [
        "Univariate analysis is perhaps the simplest form of statistical analysis. The key fact is that only one variable is involved.\n\nBivariate analysis involves the analysis of two variables (often denoted as X, Y), for the purpose of determining the empirical relationship between them.\n\n\u003ccenter\u003e**For bivariate analysis please use the Statistical analysis (Multiple Populations) variant of this notebook.**\u003c/center\u003e\n\n* [Setup and loading the data](#setup)\n* [Preprocessing of the data](#preprocessing)\n* [Statistical analysis and vizualisation](#general)\n* [Single population tests](#tests_single)\n\n\u003ccenter\u003e\u003cstrong\u003eSelect Cell \u003e Run All to execute the whole analysis\u003c/strong\u003e\u003c/center\u003e"
      ]
    },
    {
      "cell_type": "markdown",
      "metadata": {},
      "source": [
        "## Setup and dataset loading \u003ca id\u003d\"setup\" /\u003e \n\nFirst of all, let\u0027s load the libraries that we\u0027ll use"
      ]
    },
    {
      "execution_count": 1,
      "cell_type": "code",
      "metadata": {},
      "source": [
        "%pylab inline"
      ],
      "outputs": [
        {
          "output_type": "stream",
          "text": "Populating the interactive namespace from numpy and matplotlib\n",
          "name": "stdout"
        }
      ]
    },
    {
      "execution_count": 2,
      "cell_type": "code",
      "metadata": {},
      "source": [
        "import dataiku                               # Access to Dataiku datasets\nimport pandas as pd, numpy as np             # Data manipulation \nfrom matplotlib import pyplot as plt         # Graphing\nimport seaborn as sns                        # Graphing\n#sns.set(style\u003d\"white\")                       # Tuning the style of charts\nimport warnings                              # Disable some warnings\nwarnings.filterwarnings(\"ignore\",category\u003dDeprecationWarning)\nfrom scipy import stats                      # Stats"
      ],
      "outputs": []
    },
    {
      "cell_type": "markdown",
      "metadata": {},
      "source": [
        "The first thing we do is now to load the dataset and put aside the three main types of columns:\n\n* Numerics\n* Categorical\n* Dates\n\nStatistical analysis requires having the data in memory, we are only going to load a sample of the data. Modify the following cell to change the size of the sample."
      ]
    },
    {
      "execution_count": 3,
      "cell_type": "code",
      "metadata": {},
      "source": [
        "dataset_limit \u003d 10000"
      ],
      "outputs": []
    },
    {
      "cell_type": "markdown",
      "metadata": {},
      "source": [
        "Load a DSS dataset as a Pandas dataframe"
      ]
    },
    {
      "execution_count": 4,
      "cell_type": "code",
      "metadata": {},
      "source": [
        "# Take a handle on the dataset\nmydataset \u003d dataiku.Dataset(\"customers_web_joined\")\n\n# Load the first lines.\n# You can also load random samples, limit yourself to some columns, or only load\n# data matching some filters.\n#\n# Please refer to the Dataiku Python API documentation for more information\ndf \u003d mydataset.get_dataframe(limit \u003d dataset_limit)\n\ndf_orig \u003d df.copy()\n\n# Get the column names\nnumerical_columns \u003d list(df.select_dtypes(include\u003d[np.number]).columns)\ncategorical_columns \u003d list(df.select_dtypes(include\u003d[object]).columns)\ndate_columns \u003d list(df.select_dtypes(include\u003d[\u0027\u003cM8[ns]\u0027]).columns)\n\n# Print a quick summary of what we just loaded\nprint(\"Loaded dataset\")\nprint(\"   Rows: %s\" % df.shape[0])\nprint(\"   Columns: %s (%s num, %s cat, %s date)\" % (df.shape[1], \n                                                    len(numerical_columns), len(categorical_columns),\n                                                    len(date_columns)))"
      ],
      "outputs": [
        {
          "output_type": "stream",
          "text": "Loaded dataset\n   Rows: 10000\n   Columns: 11 (4 num, 6 cat, 0 date)\n",
          "name": "stdout"
        }
      ]
    },
    {
      "cell_type": "markdown",
      "metadata": {},
      "source": [
        "## Preprocessing of the data \u003ca id\u003d\"preprocessing\" /\u003e"
      ]
    },
    {
      "cell_type": "markdown",
      "metadata": {},
      "source": [
        "We will assume that the values are in the first numerical column."
      ]
    },
    {
      "execution_count": 5,
      "cell_type": "code",
      "metadata": {},
      "source": [
        "value_col \u003d numerical_columns[0]"
      ],
      "outputs": []
    },
    {
      "cell_type": "markdown",
      "metadata": {},
      "source": [
        "Uncomment the following lines to take control on this"
      ]
    },
    {
      "execution_count": 6,
      "cell_type": "code",
      "metadata": {},
      "source": [
        "value_col \u003d u\u0027revenue\u0027\nprint(\"Selected value column is \u0027%s\u0027\" % (value_col))"
      ],
      "outputs": [
        {
          "output_type": "stream",
          "text": "Selected value column is \u0027revenue\u0027\n",
          "name": "stdout"
        }
      ]
    },
    {
      "cell_type": "markdown",
      "metadata": {},
      "source": [
        "We impute missing values in the value column"
      ]
    },
    {
      "execution_count": 8,
      "cell_type": "code",
      "metadata": {},
      "source": [
        "# Use mean for numerical features\nv \u003d df[value_col].mean()\nif np.isnan(v):\n    v \u003d 0\nprint(\"Filling value column \u0027%s\u0027 with %s\" % (value_col, v))\ndf[value_col] \u003d df[value_col].fillna(v)\ndf_pop_1 \u003d df[value_col]\n\ndf.dropna(subset\u003d[value_col], inplace\u003dTrue)\ndf_pop_1 \u003d df[value_col]"
      ],
      "outputs": [
        {
          "output_type": "stream",
          "text": "Filling value column \u0027revenue\u0027 with 181.80820242771097\n",
          "name": "stdout"
        }
      ]
    },
    {
      "cell_type": "markdown",
      "metadata": {},
      "source": [
        "## Statistical analysis and vizualisation \u003ca id\u003d\"general\" /a\u003e"
      ]
    },
    {
      "cell_type": "markdown",
      "metadata": {},
      "source": [
        "### General statistics\nNumber of records, mean, standard deviation, minimal value, quartiles, maximum value, mode, variance, skewness and kurtosis."
      ]
    },
    {
      "execution_count": 9,
      "cell_type": "code",
      "metadata": {},
      "source": [
        "additional_stats \u003d [\"var\", \"skew\", \"kurtosis\"]\nprint(\"Stats about your series:\\n\", df_pop_1.describe().append(pd.Series(NaN if df_pop_1.mode().empty else df_pop_1.mode()[0], index\u003d[\"mode\"])).append(pd.Series([df_pop_1.__getattr__(x)() for x in additional_stats], index\u003dadditional_stats)))"
      ],
      "outputs": [
        {
          "output_type": "stream",
          "text": "Stats about your series:\n count       10000.000000\nmean          181.808202\nstd            64.860785\nmin            32.000000\n25%           147.000000\n50%           181.808202\n75%           211.000000\nmax           549.000000\nmode          181.808202\nvar          4206.921473\nskew            0.770326\nkurtosis        2.225741\ndtype: float64\n",
          "name": "stdout"
        }
      ]
    },
    {
      "cell_type": "markdown",
      "metadata": {},
      "source": [
        "### Histogram\nHistograms let you see the number of occurrences in your value column."
      ]
    },
    {
      "execution_count": 10,
      "cell_type": "code",
      "metadata": {},
      "source": [
        "plt.title(\"Histogram of \"+value_col);\nplt.hist(df_pop_1);"
      ],
      "outputs": [
        {
          "output_type": "display_data",
          "data": {
            "text/plain": "\u003cFigure size 432x288 with 1 Axes\u003e",
            "image/png": "[encoded data removed]"
          },
          "metadata": {}
        }
      ]
    },
    {
      "cell_type": "markdown",
      "metadata": {},
      "source": [
        "### Distplot\nDistplots combine an histogram with a kernel density estimation."
      ]
    },
    {
      "execution_count": 11,
      "cell_type": "code",
      "metadata": {},
      "source": [
        "sns.distplot(df_pop_1);"
      ],
      "outputs": [
        {
          "output_type": "display_data",
          "data": {
            "text/plain": "\u003cFigure size 432x288 with 1 Axes\u003e",
            "image/png": "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\u003d\u003d\n"
          },
          "metadata": {}
        }
      ]
    },
    {
      "cell_type": "markdown",
      "metadata": {},
      "source": [
        "### Box plot"
      ]
    },
    {
      "cell_type": "markdown",
      "metadata": {},
      "source": [
        "A simple way of representing statistical data on a plot in which a rectangle is drawn to represent the second and third quartiles, with a vertical line inside to indicate the median value. The lower and upper quartiles are shown as horizontal lines either side of the rectangle."
      ]
    },
    {
      "execution_count": 12,
      "cell_type": "code",
      "metadata": {},
      "source": [
        "sns.boxplot(df_pop_1);"
      ],
      "outputs": [
        {
          "output_type": "display_data",
          "data": {
            "text/plain": "\u003cFigure size 432x288 with 1 Axes\u003e",
            "image/png": "[encoded data removed]"
          },
          "metadata": {}
        }
      ]
    },
    {
      "cell_type": "markdown",
      "metadata": {},
      "source": [
        "### Violin plot"
      ]
    },
    {
      "cell_type": "markdown",
      "metadata": {},
      "source": [
        "The violin plot is similar to box plots, except that they also show the probability density of the data at different values. Violin plots include a marker for the median of the data and a box indicating the interquartile range, as in standard box plots. Overlaid on this box plot is a kernel density estimation. "
      ]
    },
    {
      "execution_count": 13,
      "cell_type": "code",
      "metadata": {},
      "source": [
        "sns.violinplot(df_pop_1);"
      ],
      "outputs": [
        {
          "output_type": "display_data",
          "data": {
            "text/plain": "\u003cFigure size 432x288 with 1 Axes\u003e",
            "image/png": "[encoded data removed]"
          },
          "metadata": {}
        }
      ]
    },
    {
      "cell_type": "markdown",
      "metadata": {},
      "source": [
        "### Letter value plot"
      ]
    },
    {
      "cell_type": "markdown",
      "metadata": {},
      "source": [
        "Letter value plots are an improvement upon boxplots for large datasets.\n\nThey display the median and the quartiles, like a standard box plot, but will also draw boxes for subsequent \"eights\", \"sixteenth\" etc... which are generically called letter values.\n\nA cut off condition will leave a reasonable number of outliers out of the final boxes, helping you spot them easily.\n\nLetter value plots give a good sense of the distribution of data, and of its skewness."
      ]
    },
    {
      "execution_count": 15,
      "cell_type": "code",
      "metadata": {},
      "source": [
        "sns.lvplot(df_pop_1);"
      ],
      "outputs": [
        {
          "output_type": "stream",
          "text": "/home/dataiku/dataiku-dss-11.1.2/python36.packages/seaborn/categorical.py:2622: UserWarning: The `lvplot` function has been renamed to `boxenplot`. The original name will be removed in a future release. Please update your code. \n  warnings.warn(msg)\n",
          "name": "stderr"
        },
        {
          "output_type": "display_data",
          "data": {
            "text/plain": "\u003cFigure size 432x288 with 1 Axes\u003e",
            "image/png": "iVBORw0KGgoAAAANSUhEUgAAAWQAAAEKCAYAAAAl5S8KAAAABHNCSVQICAgIfAhkiAAAAAlwSFlzAAALEgAACxIB0t1+/AAAADl0RVh0U29mdHdhcmUAbWF0cGxvdGxpYiB2ZXJzaW9uIDIuMi41LCBodHRwOi8vbWF0cGxvdGxpYi5vcmcvSM8oowAADpJJREFUeJzt3XuMlNUdxvHnBysuCEVZ1FIlLN5C+QO5qZj1Qm0VsGAbtVBL1SamNLZGG8HGS1s1VZPW2AtpJZK0sTZEAbEt0rQrUrUWXe2uLIKIiopRRBYEUbzv7ukfc2aZnZ1ddpa5/Pbd7yeZzMx5z3vmHHZ49szZ933HQggCAJRfv3J3AACQQiADgBMEMgA4QSADgBMEMgA4QSADgBMEMgA4QSADgBMEMgA4UZFP5eHDh4fq6uoidQUAkqmhoWFXCOHIA9XLK5Crq6tVX1/f814BQB9kZm90px5LFgDgBIEMAE4QyADgBIEMAE4QyADgBIEMAE4QyADgBIEMAE4QyADgBIEMAE4QyADgBIEMAE4QyADgBIEMAE4QyADgBIEMAE4QyADgBIEMAE4QyADgBIGcAHV1daqrqyt3NwAcpLy+5BSFM+m6+wrW1ufbNkmSDlnx8kG103DnZYXoDoAeYoYMAE4QyADgBIEMAE4QyADgBIEMAE4QyADgBIEMAE4QyADgBIEMAE4QyADgBIEMAE4QyADgBIEMAE4QyADgBIEMAE4QyADgBIEMAE4QyADgBIEMAE4QyADgBIEMAE4QyADgBIEMAE4QyADgBIEMAE4QyADgBIEMAE4QyADgBIEMAE4QyADgBIEMAE4QyADgBIEMAE4QyADgBIEMAE4QyADgBIEMAE4QyADgBIEMAE4QyADgBIEMAE4QyADgBIEMAE5UlLsDHs28Y0W5u1AWxRz3qhsvKlrbQFIwQwYAJwhkAHCCQAYAJwhkAHCCQAYAJwhkAHCCQAYAJwhkAHCCQAYAJwhkAHCCQAYAJwhkAHCCQAYAJwhkAHCCQAYAJwhkAHCCQAYAJwhkAHCCQAYAJwhkAHAi0V9yOm9Rbbm7gKiQP4vFV04rWFuAJ8yQAcAJAhkAnCCQAcAJAhkAnCCQAcAJAhkAnCCQAcAJAhkAnCCQAcAJAhkAnOj1p07fvHRtubuAEivGz/zWOTUFbxPIFzNkAHCCQAYAJwhkAHCCQAYAJwhkAHCiZEdZNO39SI+u36ovDDpUMycf3+N27nlkfQF7BaQU6331g/NOLkq7fVHT3o901NBB3drWtPcjSdJRQwd1uV/mvtn3mTa9+a7GjqwqwCi6VpIZ8rrXdmjGbQ/qrofrdfPStbr+L0+U4mUBJMS613bo/Nse1LrXdxxwWzpvZtz2oJau3dzpfpn7pusty1F/6X8369KF/9CypzYXZ3AZLITQ7cqTJ08O9fX1eb1Ac0urZt2+XE0ffNqufM3Ns3X44Mqc+zxc/2qn7b29e1/753v2dVJT2r67821d6arNQtm+58OCtfX5tk2SpEOOGXtQ7Yw44rBCdCenLx0xuGBtjRhWuLbSCtm/du0Woa+dmXUQnzw9a25p1YW/+pu27d6nY6sGa8V131RF/345ty299gJ9666VbTnRz6TWoA77Ze/bv5+ppTW03afrN7e06qyf3d+27T+/uESVA/JfWDCzhhDC5APVK/oMeenazR3CWJJm37Wy2C8NIAGWrt2s3fs+kSS9+8EnWrZ2c6fbblryZNtyhZQK41z7Ze/bEium79P1b1zyZLttNy15sggj3K+oa8i73v9YC1flnlHfe/X5bTPRns5kAezX8Oo7RW3/YD+Z9ORTyK73P9ai2kZ9/FmzJOnjz5p1d22jpk0YrRDUYdvjm97M2U7mflVDBnZoN1f93//zOX3a3Nqu/PFNb2rL9j06YcQReY+lOw44QzazeWZWb2b1O3fuzKvx2sbX1dz9FREAaKe28XW1tLYPxZbWoNrG13Nu60p6v87azfZZS+7ti2obu/2a+TrgDDmEsFjSYim1hpxP49MnjNbCVfU5Q3nWHQ/pzkvP1jnjRnX4zfl2F2vIAHKbdPwXy92Fgps+YXQMwP3h2L+fadr40ZLUYVtXMvfL1W62Af37dZghS9KV08Z3u//5KuoactWQgbp6Zu517KrBlTpn3KhivjyAXq5qyEBdOW28BsY/pFUOqNAPp41X1ZCBObdNHTuy3R/u0jL3y9VurvpXzZios8eObFc+dezIoi1XSCU4DnlOzRgteWKDdrzf/g97y+Zf0Ok+Xf21mOOQ0Zsk9ciHUppTM0bLntqst97dp+FDKjW7Zkyn226fe6Zm37VS27KOssjeL3vf7KMs0vUvnHJSu6Msbp97ZlHHWvSjLCr699Ptc6e2Kzt33KhOD3kDgEwV/fvpltk1Mkm3zKlpNwPO3lY5oKLdpVQXfOPUnPtl7zv/glNkkhbE+3T9ygEVmj/rlNjWKT065C0fRT8OOa1YZ+pxHDLHIRdCsY5D5ky9wunNZ+p19zjkkp06fdTQQfrOWQcXGFLHNzgXqEchEJz+dRWq2dsyn3e1X+b27PtMpThtWuLiQgDgBoEMAE4QyADgBIEMAE70+m+d7urbguctqi1hT1AqfEM0kooZMgA4QSADgBMEMgA4QSADgBMEMgA4QSADgBMEMgA4QSADgBMEMgA4QSADgBO9/tTpriy+clqP9pt5x4oC9wQ9/VkAfQkzZABwgkAGACcIZABwgkAGACcIZABwgkAGACcIZABwgkAGACcIZABwgkAGACcIZABwgkAGACcIZABwgkAGACcIZABwgkAGACcIZABwgkAGACcIZABwgkAGACcIZABwItHfOt1Tq268qOivMem6+4r+GvkqxbgBdI4ZMgA4QSADgBMEMgA4QSADgBMEMgA4QSADgBMEMgA4QSADgBMEMgA4QSADgBMEMgA4QSADgBMEMgA4QSADgBMEMgA4QSADgBMEMgA4QSADgBMEMgA4QSADgBMEMgA4QSADgBMEMgA4QSADgBMEMgA4QSADgBMEMgA4QSADgBMEMgA4QSADgBMEMgA4QSADgBMEMgA4QSADgBMEMgA4QSADgBMEMgA4QSADgBMEMgA4QSADgBMEMgA4QSADgBMV5e5AX9Vw52UFa6uurk6SNGXKlIK1CaD0COQEIIiBZGDJAgCcIJABwAkCGQCcIJABwAkCGQCcIJABwAkCGQCcIJABwAkCGQCcIJABwAkCGQCcIJABwAkCGQCcIJABwAkCGQCcIJABwAkCGQCcIJABwAkCGQCcIJABwAkLIXS/stlOSW8UrztlNVzSrnJ3okQYazL1lbH2xnGOCiEceaBKeQVykplZfQhhcrn7UQqMNZn6yliTPE6WLADACQIZAJwgkPdbXO4OlBBjTaa+MtbEjpM1ZABwghkyADjRZwLZzP5kZk1mtjGjbJiZrTazV+L9EbHczGyhmW0xs+fNbGL5ep4fMxtpZo+Z2SYze8HMronlSRxrpZk9a2br41hvjeWjzeyZOKalZjYglh8an2+J26vL2f+eMLP+ZrbOzFbF54kcq5ltNbMNZtZoZvWxLHHv4Wx9JpAl3StpelbZ9ZLWhBBOlLQmPpekGZJOjLd5khaVqI+F0CxpfghhrKQpkn5kZmOVzLF+KumcEMLJksZLmm5mUyT9UtJvQggnSNoj6YpY/wpJe2L5b2K93uYaSS9mPE/yWL8SQhifcYhbEt/D7YUQ+sxNUrWkjRnPX5I0Ij4eIeml+PgeSZfkqtfbbpL+LuncpI9V0iBJz0k6TamTBipi+emSauPjWkmnx8cVsZ6Vu+95jPFYpYLoHEmrJFmCx7pV0vCsskS/h0MIfWqGnMvRIYTt8fE7ko6Oj4+R9GZGvbdiWa8SP6ZOkPSMEjrW+BG+UVKTpNWSXpX0XgihOVbJHE/bWOP2vZKqStvjg/JbST+R1BqfVym5Yw2SHjGzBjObF8sS+R7OVFHuDngRQghmlphDTsxssKQVkn4cQnjfzNq2JWmsIYQWSePN7HBJf5U0psxdKgozmympKYTQYGZTy92fEjgjhLDNzI6StNrMNmduTNJ7OFNfnyHvMLMRkhTvm2L5NkkjM+odG8t6BTM7RKkwXhJCeCgWJ3KsaSGE9yQ9ptTH9sPNLD3ZyBxP21jj9qGS3i1xV3uqRtIFZrZV0gNKLVv8Tskcq0II2+J9k1K/aE9Vwt/DEoG8UtLl8fHlSq23pssvi3+9nSJpb8ZHJdcsNRX+o6QXQwi/ztiUxLEeGWfGMrOBSq2Vv6hUMF8cq2WPNf1vcLGkf4e46OhdCOGGEMKxIYRqSd9Wqu9zlcCxmtlhZjYk/VjSeZI2KoHv4Q7KvYhdqpuk+yVtl/S5UmtMVyi1prZG0iuSHpU0LNY1SX9Qaj1yg6TJ5e5/HuM8Q6n1t+clNcbb+Qkd6zhJ6+JYN0r6eSw/TtKzkrZIWi7p0FheGZ9viduPK/cYejjuqZJWJXWscUzr4+0FSTfF8sS9h7NvnKkHAE709SULAHCDQAYAJwhkAHCCQAYAJwhkAHCCQAYAJwhklF08oJ/3Ivo8/hOgLMys2sxeMrP7lDqp41Ize9rMnjOz5WY22Mymm9nyjH2mZlwH+Lzs+rF8q5ndGss3mNmYWH6LmS3IaGtj+hrBZvZdS11XudHM7jGz/qX7lwD2I5BRTidKulvS2UqdOfm1EMJESfWSrlXqbKzT4umzkjRH0gNmNlzST3PUT9sVyxdJWqAumNmXY7s1IYTxklokzS3Q+IC8cLU3lNMbIYS6eCWzsZLWxqvSDZD0dAih2cz+JWmWmT0o6etKXX7y7Fz1M9pNX1CpQdKFB+jDVyVNkvS/2NZA7b9oDVBSBDLK6cN4b5JWhxAuyVHnAUlXSdotqT6E8EG8gFJn9aXUN4lIqdlu+j3erPafCCszXvvPIYQbejgGoGBYsoAHdZJqzOwEqe1qXyfFbU9Imijp+0qF84Hqd2ZrbEfxO9dGx/I1ki6O191Nf2/bqIKMCsgTgYyyCyHslPQ9Sfeb2fNKLT+MidtalPq6ohnxvsv6XVghaZiZvaDUjPvl2NYmpdajH4ltrVbq64GAkuNqbwDgBDNkAHCCQAYAJwhkAHCCQAYAJwhkAHCCQAYAJwhkAHCCQAYAJ/4PRJYpNNnll30AAAAASUVORK5CYII\u003d\n"
          },
          "metadata": {}
        }
      ]
    },
    {
      "cell_type": "markdown",
      "metadata": {},
      "source": [
        "## Statistical testing \u003ca id\u003d\"tests\" /a\u003e"
      ]
    },
    {
      "cell_type": "markdown",
      "metadata": {},
      "source": [
        "**Reminder:** For a given significance level (e.g. 0.05), if the resulting p-value is smaller (p \u003c 0.05), the null hypothesis is rejected. Otherwise (p ≥ 0.05) it cannot be rejected."
      ]
    },
    {
      "execution_count": 16,
      "cell_type": "code",
      "metadata": {},
      "source": [
        "# Define your confidence threshold here, default is 0.05\nconfidence \u003d 0.05"
      ],
      "outputs": []
    },
    {
      "execution_count": 17,
      "cell_type": "code",
      "metadata": {},
      "source": [
        "def analyse_results(confidence, pvalue, message, population_name\u003d\"your series\"):\n    if pvalue \u003c confidence:\n        print(\"The hypothesis of \" + message + \" for \"+ population_name + \" is rejected with pvalue %s (smaller than %s)\" % (pvalue, confidence))\n    else:\n        print(\"The hypothesis of \" + message + \" for \"+ population_name + \" can not be rejected, pvalue was %s (greater than %s)\" % (pvalue, confidence))"
      ],
      "outputs": []
    },
    {
      "cell_type": "markdown",
      "metadata": {},
      "source": [
        "## Single population tests \u003ca id\u003d\"tests_single\" /a\u003e"
      ]
    },
    {
      "cell_type": "markdown",
      "metadata": {},
      "source": [
        "### Goodness of fit with a normal law: Shapiro-Wilk test"
      ]
    },
    {
      "cell_type": "markdown",
      "metadata": {},
      "source": [
        "The null-hypothesis of this test is that the population is normally distributed."
      ]
    },
    {
      "execution_count": 18,
      "cell_type": "code",
      "metadata": {},
      "source": [
        "pvalue_1 \u003d stats.shapiro(df_pop_1)[1]\ntest \u003d \u0027normal distribution\u0027\nanalyse_results(confidence, pvalue_1, test)"
      ],
      "outputs": [
        {
          "output_type": "stream",
          "text": "The hypothesis of normal distribution for your series is rejected with pvalue 0.0 (smaller than 0.05)\n",
          "name": "stdout"
        },
        {
          "output_type": "stream",
          "text": "/home/dataiku/dataiku-dss-11.1.2/python36.packages/scipy/stats/morestats.py:1653: UserWarning: p-value may not be accurate for N \u003e 5000.\n  warnings.warn(\"p-value may not be accurate for N \u003e 5000.\")\n",
          "name": "stderr"
        }
      ]
    },
    {
      "cell_type": "markdown",
      "metadata": {},
      "source": [
        "### Test for the average value"
      ]
    },
    {
      "cell_type": "markdown",
      "metadata": {},
      "source": [
        "The null-hypothesis of this test is that the population has the specified mean."
      ]
    },
    {
      "execution_count": 19,
      "cell_type": "code",
      "metadata": {},
      "source": [
        "# Define the mean you ant to test for here\ntested_mean \u003d 0"
      ],
      "outputs": []
    },
    {
      "execution_count": 20,
      "cell_type": "code",
      "metadata": {},
      "source": [
        "pvalue_1 \u003d stats.ttest_1samp(df_pop_1, tested_mean).pvalue\ntest \u003d \u0027mean\u003d%s\u0027 % (tested_mean)\nanalyse_results(confidence, pvalue_1, test)"
      ],
      "outputs": [
        {
          "output_type": "stream",
          "text": "The hypothesis of mean\u003d0 for your series is rejected with pvalue 0.0 (smaller than 0.05)\n",
          "name": "stdout"
        }
      ]
    },
    {
      "cell_type": "markdown",
      "metadata": {},
      "source": [
        "\u003ccenter\u003e**If you have multiple populations and want to run bivariate analyses please use the Statistical analysis (Multiple Populations) variant of this notebook.**\u003c/center\u003e"
      ]
    }
  ]
}